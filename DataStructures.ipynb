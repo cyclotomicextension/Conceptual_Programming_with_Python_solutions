{
  "nbformat": 4,
  "nbformat_minor": 0,
  "metadata": {
    "colab": {
      "provenance": []
    },
    "kernelspec": {
      "name": "python3",
      "display_name": "Python 3"
    },
    "language_info": {
      "name": "python"
    }
  },
  "cells": [
    {
      "cell_type": "markdown",
      "source": [
        "## Data Structures\n",
        "\n",
        "There are data types like integer, float, boolean, string, etc. Data structures are a data type that store a particular data in them. For example: strings, lists, etc. \n",
        "\n",
        "\n",
        "Let us talk about strings:"
      ],
      "metadata": {
        "id": "Zkz2MCFQLjjn"
      }
    },
    {
      "cell_type": "code",
      "execution_count": 66,
      "metadata": {
        "id": "n4GMmo3LLjn8"
      },
      "outputs": [],
      "source": [
        "s=\"abc\"\n"
      ]
    },
    {
      "cell_type": "code",
      "source": [
        "#To find the length of the string we do:\n",
        "print(len(s))\n",
        "\n",
        "#To access the first element of the string, we do \n",
        "print(s[0])\n",
        "\n",
        "#To access the last element of the string, we do\n",
        "print(s[-1])"
      ],
      "metadata": {
        "colab": {
          "base_uri": "https://localhost:8080/"
        },
        "id": "7yCCfbtiMEed",
        "outputId": "890de094-f147-406f-ee4a-8a80997ba98d"
      },
      "execution_count": 67,
      "outputs": [
        {
          "output_type": "stream",
          "name": "stdout",
          "text": [
            "3\n",
            "a\n",
            "c\n"
          ]
        }
      ]
    },
    {
      "cell_type": "code",
      "source": [
        "#There is a process called slicing which helps to access a part of the string. \n",
        "s[0:2]"
      ],
      "metadata": {
        "colab": {
          "base_uri": "https://localhost:8080/",
          "height": 34
        },
        "id": "317NInIaMJNe",
        "outputId": "2cdecc26-4d70-4508-f541-c99768f9377c"
      },
      "execution_count": 68,
      "outputs": [
        {
          "output_type": "execute_result",
          "data": {
            "text/plain": [
              "'ab'"
            ],
            "application/vnd.google.colaboratory.intrinsic+json": {
              "type": "string"
            }
          },
          "metadata": {},
          "execution_count": 68
        }
      ]
    },
    {
      "cell_type": "code",
      "source": [
        "#Construct a new string \"Thorsten\" with first and last letter swapped\n",
        "s=\"Thorsten\"\n",
        "print(s[-1]+s[1:-1]+s[0])"
      ],
      "metadata": {
        "colab": {
          "base_uri": "https://localhost:8080/"
        },
        "id": "u09Y4kT2Mv7P",
        "outputId": "236912cf-2316-4e18-df19-c5e6a255c496"
      },
      "execution_count": 69,
      "outputs": [
        {
          "output_type": "stream",
          "name": "stdout",
          "text": [
            "nhorsteT\n"
          ]
        }
      ]
    },
    {
      "cell_type": "code",
      "source": [
        "#Let us call the above swapping as a function swap\n",
        "def swap(x):\n",
        "  return x[-1]+x[1:-1]+x[0]"
      ],
      "metadata": {
        "id": "iCR_3W4aNKOU"
      },
      "execution_count": 70,
      "outputs": []
    },
    {
      "cell_type": "code",
      "source": [
        "swap(s)"
      ],
      "metadata": {
        "colab": {
          "base_uri": "https://localhost:8080/",
          "height": 34
        },
        "id": "PaUWfSdeNcP_",
        "outputId": "38bf0c81-8920-481c-d36f-e88edb517efe"
      },
      "execution_count": 71,
      "outputs": [
        {
          "output_type": "execute_result",
          "data": {
            "text/plain": [
              "'nhorsteT'"
            ],
            "application/vnd.google.colaboratory.intrinsic+json": {
              "type": "string"
            }
          },
          "metadata": {},
          "execution_count": 71
        }
      ]
    },
    {
      "cell_type": "code",
      "source": [
        "swap(swap(s))"
      ],
      "metadata": {
        "colab": {
          "base_uri": "https://localhost:8080/",
          "height": 34
        },
        "id": "u6xCH_doNfJb",
        "outputId": "7737e094-9857-4426-d69a-b84fcf11b1de"
      },
      "execution_count": 72,
      "outputs": [
        {
          "output_type": "execute_result",
          "data": {
            "text/plain": [
              "'Thorsten'"
            ],
            "application/vnd.google.colaboratory.intrinsic+json": {
              "type": "string"
            }
          },
          "metadata": {},
          "execution_count": 72
        }
      ]
    },
    {
      "cell_type": "code",
      "source": [
        "swap(\"\")\n",
        "\n",
        "#swap does not work on empty string as empty string has no index at all so even index 0 is out of range. "
      ],
      "metadata": {
        "colab": {
          "base_uri": "https://localhost:8080/",
          "height": 274
        },
        "id": "8-6QtEMiNjZR",
        "outputId": "f5b09f53-faff-49e2-f065-c7c1be7c32c9"
      },
      "execution_count": 73,
      "outputs": [
        {
          "output_type": "error",
          "ename": "IndexError",
          "evalue": "ignored",
          "traceback": [
            "\u001b[0;31m---------------------------------------------------------------------------\u001b[0m",
            "\u001b[0;31mIndexError\u001b[0m                                Traceback (most recent call last)",
            "\u001b[0;32m<ipython-input-73-1cbaf1ce7c1d>\u001b[0m in \u001b[0;36m<module>\u001b[0;34m\u001b[0m\n\u001b[0;32m----> 1\u001b[0;31m \u001b[0mswap\u001b[0m\u001b[0;34m(\u001b[0m\u001b[0;34m\"\"\u001b[0m\u001b[0;34m)\u001b[0m\u001b[0;34m\u001b[0m\u001b[0;34m\u001b[0m\u001b[0m\n\u001b[0m\u001b[1;32m      2\u001b[0m \u001b[0;34m\u001b[0m\u001b[0m\n\u001b[1;32m      3\u001b[0m \u001b[0;31m#swap does not work on empty string as empty string has no index at all so even index 0 is out of range.\u001b[0m\u001b[0;34m\u001b[0m\u001b[0;34m\u001b[0m\u001b[0;34m\u001b[0m\u001b[0m\n",
            "\u001b[0;32m<ipython-input-70-e6e8341208aa>\u001b[0m in \u001b[0;36mswap\u001b[0;34m(x)\u001b[0m\n\u001b[1;32m      1\u001b[0m \u001b[0;31m#Let us call the above swapping as a function swap\u001b[0m\u001b[0;34m\u001b[0m\u001b[0;34m\u001b[0m\u001b[0;34m\u001b[0m\u001b[0m\n\u001b[1;32m      2\u001b[0m \u001b[0;32mdef\u001b[0m \u001b[0mswap\u001b[0m\u001b[0;34m(\u001b[0m\u001b[0mx\u001b[0m\u001b[0;34m)\u001b[0m\u001b[0;34m:\u001b[0m\u001b[0;34m\u001b[0m\u001b[0;34m\u001b[0m\u001b[0m\n\u001b[0;32m----> 3\u001b[0;31m   \u001b[0;32mreturn\u001b[0m \u001b[0mx\u001b[0m\u001b[0;34m[\u001b[0m\u001b[0;34m-\u001b[0m\u001b[0;36m1\u001b[0m\u001b[0;34m]\u001b[0m\u001b[0;34m+\u001b[0m\u001b[0mx\u001b[0m\u001b[0;34m[\u001b[0m\u001b[0;36m1\u001b[0m\u001b[0;34m:\u001b[0m\u001b[0;34m-\u001b[0m\u001b[0;36m1\u001b[0m\u001b[0;34m]\u001b[0m\u001b[0;34m+\u001b[0m\u001b[0mx\u001b[0m\u001b[0;34m[\u001b[0m\u001b[0;36m0\u001b[0m\u001b[0;34m]\u001b[0m\u001b[0;34m\u001b[0m\u001b[0;34m\u001b[0m\u001b[0m\n\u001b[0m",
            "\u001b[0;31mIndexError\u001b[0m: string index out of range"
          ]
        }
      ]
    },
    {
      "cell_type": "markdown",
      "source": [
        "Just like strings are sequences of characters, lists are also sequences of anyhing stored in them, for example, numbers. "
      ],
      "metadata": {
        "id": "QL9ND5aeNyBs"
      }
    },
    {
      "cell_type": "code",
      "source": [
        "#Let us define a list ls\n",
        "ls=[1,2,3]\n",
        "ls"
      ],
      "metadata": {
        "colab": {
          "base_uri": "https://localhost:8080/"
        },
        "id": "jzbF6e2uNkip",
        "outputId": "bff75e09-df41-461e-d2de-2afaa2a4423a"
      },
      "execution_count": 74,
      "outputs": [
        {
          "output_type": "execute_result",
          "data": {
            "text/plain": [
              "[1, 2, 3]"
            ]
          },
          "metadata": {},
          "execution_count": 74
        }
      ]
    },
    {
      "cell_type": "code",
      "source": [
        "type(ls)"
      ],
      "metadata": {
        "colab": {
          "base_uri": "https://localhost:8080/"
        },
        "id": "vxhmeT84OAWe",
        "outputId": "4a181d72-4d40-400a-a219-c10b77932b06"
      },
      "execution_count": 75,
      "outputs": [
        {
          "output_type": "execute_result",
          "data": {
            "text/plain": [
              "list"
            ]
          },
          "metadata": {},
          "execution_count": 75
        }
      ]
    },
    {
      "cell_type": "markdown",
      "source": [
        "A list can store integers, boolean, float, strings, etc. all at the same time. For example:"
      ],
      "metadata": {
        "id": "Aod_NKhSOEa7"
      }
    },
    {
      "cell_type": "code",
      "source": [
        "ls=[1,2.3,\"pink\",[1,5,8]]"
      ],
      "metadata": {
        "id": "vsR3_CdqODXi"
      },
      "execution_count": 76,
      "outputs": []
    },
    {
      "cell_type": "code",
      "source": [
        "#We can convert a list into string and a string into list:\n",
        "lis=list(s)\n",
        "lstring=str([1,2,3])\n",
        "print(lis)\n",
        "print(lstring)"
      ],
      "metadata": {
        "colab": {
          "base_uri": "https://localhost:8080/",
          "height": 224
        },
        "id": "sMr2GvquOR-a",
        "outputId": "0b8c3c69-b7cd-426b-e076-f791e1c19479"
      },
      "execution_count": 77,
      "outputs": [
        {
          "output_type": "error",
          "ename": "TypeError",
          "evalue": "ignored",
          "traceback": [
            "\u001b[0;31m---------------------------------------------------------------------------\u001b[0m",
            "\u001b[0;31mTypeError\u001b[0m                                 Traceback (most recent call last)",
            "\u001b[0;32m<ipython-input-77-634c4dc18a4e>\u001b[0m in \u001b[0;36m<module>\u001b[0;34m\u001b[0m\n\u001b[1;32m      1\u001b[0m \u001b[0;31m#We can convert a list into string and a string into list:\u001b[0m\u001b[0;34m\u001b[0m\u001b[0;34m\u001b[0m\u001b[0;34m\u001b[0m\u001b[0m\n\u001b[1;32m      2\u001b[0m \u001b[0mlis\u001b[0m\u001b[0;34m=\u001b[0m\u001b[0mlist\u001b[0m\u001b[0;34m(\u001b[0m\u001b[0ms\u001b[0m\u001b[0;34m)\u001b[0m\u001b[0;34m\u001b[0m\u001b[0;34m\u001b[0m\u001b[0m\n\u001b[0;32m----> 3\u001b[0;31m \u001b[0mlstring\u001b[0m\u001b[0;34m=\u001b[0m\u001b[0mstr\u001b[0m\u001b[0;34m(\u001b[0m\u001b[0;34m[\u001b[0m\u001b[0;36m1\u001b[0m\u001b[0;34m,\u001b[0m\u001b[0;36m2\u001b[0m\u001b[0;34m,\u001b[0m\u001b[0;36m3\u001b[0m\u001b[0;34m]\u001b[0m\u001b[0;34m)\u001b[0m\u001b[0;34m\u001b[0m\u001b[0;34m\u001b[0m\u001b[0m\n\u001b[0m\u001b[1;32m      4\u001b[0m \u001b[0mprint\u001b[0m\u001b[0;34m(\u001b[0m\u001b[0mlis\u001b[0m\u001b[0;34m)\u001b[0m\u001b[0;34m\u001b[0m\u001b[0;34m\u001b[0m\u001b[0m\n\u001b[1;32m      5\u001b[0m \u001b[0mprint\u001b[0m\u001b[0;34m(\u001b[0m\u001b[0mlstring\u001b[0m\u001b[0;34m)\u001b[0m\u001b[0;34m\u001b[0m\u001b[0;34m\u001b[0m\u001b[0m\n",
            "\u001b[0;31mTypeError\u001b[0m: 'str' object is not callable"
          ]
        }
      ]
    },
    {
      "cell_type": "code",
      "source": [
        "#Example 1\n",
        "ls[0]+ls[3]"
      ],
      "metadata": {
        "colab": {
          "base_uri": "https://localhost:8080/",
          "height": 175
        },
        "id": "zNETFQS0PeM6",
        "outputId": "b803c84a-d1e8-49ec-e521-8c846ff837f6"
      },
      "execution_count": 79,
      "outputs": [
        {
          "output_type": "error",
          "ename": "TypeError",
          "evalue": "ignored",
          "traceback": [
            "\u001b[0;31m---------------------------------------------------------------------------\u001b[0m",
            "\u001b[0;31mTypeError\u001b[0m                                 Traceback (most recent call last)",
            "\u001b[0;32m<ipython-input-79-51a90907a1ab>\u001b[0m in \u001b[0;36m<module>\u001b[0;34m\u001b[0m\n\u001b[1;32m      1\u001b[0m \u001b[0;31m#Example 1\u001b[0m\u001b[0;34m\u001b[0m\u001b[0;34m\u001b[0m\u001b[0;34m\u001b[0m\u001b[0m\n\u001b[0;32m----> 2\u001b[0;31m \u001b[0mls\u001b[0m\u001b[0;34m[\u001b[0m\u001b[0;36m0\u001b[0m\u001b[0;34m]\u001b[0m\u001b[0;34m+\u001b[0m\u001b[0mls\u001b[0m\u001b[0;34m[\u001b[0m\u001b[0;36m3\u001b[0m\u001b[0;34m]\u001b[0m\u001b[0;34m\u001b[0m\u001b[0;34m\u001b[0m\u001b[0m\n\u001b[0m",
            "\u001b[0;31mTypeError\u001b[0m: unsupported operand type(s) for +: 'int' and 'list'"
          ]
        }
      ]
    },
    {
      "cell_type": "code",
      "source": [
        "#Example 2\n",
        "ls+[123]"
      ],
      "metadata": {
        "colab": {
          "base_uri": "https://localhost:8080/"
        },
        "id": "Nvpwj38_PxPU",
        "outputId": "b86970cf-d6bd-4067-92d7-60fbec44944f"
      },
      "execution_count": 80,
      "outputs": [
        {
          "output_type": "execute_result",
          "data": {
            "text/plain": [
              "[1, 2.3, 'pink', [1, 5, 8], 123]"
            ]
          },
          "metadata": {},
          "execution_count": 80
        }
      ]
    },
    {
      "cell_type": "markdown",
      "source": [
        "Note the two examples above. In Example 1, we were concatenating an integer with a list, which are different data types and hence, an error. However, in example 2, we are concatenating a list with a list, and so it works, due to compatible data types. "
      ],
      "metadata": {
        "id": "EkXacuZQP00U"
      }
    },
    {
      "cell_type": "code",
      "source": [
        "#All the operations that we used on strings, also work for lists. There is another additional operation as:\n",
        "ls[3][2]"
      ],
      "metadata": {
        "colab": {
          "base_uri": "https://localhost:8080/"
        },
        "id": "HLORzspKPMJa",
        "outputId": "56b88df7-52ff-400a-cbdd-bbee2c81cd5d"
      },
      "execution_count": 81,
      "outputs": [
        {
          "output_type": "execute_result",
          "data": {
            "text/plain": [
              "8"
            ]
          },
          "metadata": {},
          "execution_count": 81
        }
      ]
    },
    {
      "cell_type": "markdown",
      "source": [
        "Here, `ls[3]` accessed the element at index 3 which is a list `[3,5,8]` and `ls[3][2]` accessed the second element of `ls[3]` which is `8`. Hence, the output returned is `8`."
      ],
      "metadata": {
        "id": "8K6yL23cQIcL"
      }
    },
    {
      "cell_type": "code",
      "source": [
        "#Since a list has the possibility of containing varied data types, it is not always essential that our `swap` function defined above will work for lists. \n",
        "#So, we can make it work by enclosing it within []:\n",
        "def swap_for_lists(x):\n",
        "  return [x[-1]]+x[1:-1]+[x[0]]"
      ],
      "metadata": {
        "id": "9JnLQiulQZS3"
      },
      "execution_count": 82,
      "outputs": []
    },
    {
      "cell_type": "code",
      "source": [
        "swap_for_lists(ls)"
      ],
      "metadata": {
        "colab": {
          "base_uri": "https://localhost:8080/"
        },
        "id": "P64LIPVARBjv",
        "outputId": "0fe97fd6-7dfb-4a17-dfa4-416e7875a417"
      },
      "execution_count": 83,
      "outputs": [
        {
          "output_type": "execute_result",
          "data": {
            "text/plain": [
              "[[1, 5, 8], 2.3, 'pink', 1]"
            ]
          },
          "metadata": {},
          "execution_count": 83
        }
      ]
    },
    {
      "cell_type": "code",
      "source": [
        "swap(ls) #The swap function for strings does not work here as we cannot concatenate integers with lists or strings, hence, raises error"
      ],
      "metadata": {
        "id": "65V9gW5qRI3_"
      },
      "execution_count": null,
      "outputs": []
    },
    {
      "cell_type": "code",
      "source": [
        "def swap_for_all(x):\n",
        "  return x[-1:]+x[1:-1]+x[:1]"
      ],
      "metadata": {
        "id": "hEsTvnooRLNp"
      },
      "execution_count": 85,
      "outputs": []
    },
    {
      "cell_type": "code",
      "source": [
        "swap_for_all(ls)"
      ],
      "metadata": {
        "colab": {
          "base_uri": "https://localhost:8080/"
        },
        "id": "VmZzNKb7RrKH",
        "outputId": "7eb9b086-3cb2-45e5-f1a7-224ae5a1d650"
      },
      "execution_count": 86,
      "outputs": [
        {
          "output_type": "execute_result",
          "data": {
            "text/plain": [
              "[[1, 5, 8], 2.3, 'pink', 1]"
            ]
          },
          "metadata": {},
          "execution_count": 86
        }
      ]
    },
    {
      "cell_type": "code",
      "source": [
        "swap_for_all(s)"
      ],
      "metadata": {
        "colab": {
          "base_uri": "https://localhost:8080/",
          "height": 34
        },
        "id": "xuluoGPOSA2s",
        "outputId": "7aba9d1a-bde8-4478-8705-737231e70e34"
      },
      "execution_count": 87,
      "outputs": [
        {
          "output_type": "execute_result",
          "data": {
            "text/plain": [
              "'nhorsteT'"
            ],
            "application/vnd.google.colaboratory.intrinsic+json": {
              "type": "string"
            }
          },
          "metadata": {},
          "execution_count": 87
        }
      ]
    },
    {
      "cell_type": "markdown",
      "source": [
        "Our new function `swap_for_all` works for both strings and lists. The reason for this is that while indexing may work only for strings, slicing works for both strings and lists. "
      ],
      "metadata": {
        "id": "cq5EUhIwST-9"
      }
    },
    {
      "cell_type": "markdown",
      "source": [
        "A very important difference between lists and strings is that strings are immutable. What does this mean?"
      ],
      "metadata": {
        "id": "G-9xraNwUZZG"
      }
    },
    {
      "cell_type": "code",
      "source": [
        "print(s)\n",
        "#Let us change `s[0]` to be 'z':\n",
        "s[0]='z'\n",
        "print(s)"
      ],
      "metadata": {
        "colab": {
          "base_uri": "https://localhost:8080/",
          "height": 224
        },
        "id": "Ly8hOrgFSk7D",
        "outputId": "1de375e1-6eb3-44f9-d40e-c9fa45ec905f"
      },
      "execution_count": 88,
      "outputs": [
        {
          "output_type": "stream",
          "name": "stdout",
          "text": [
            "Thorsten\n"
          ]
        },
        {
          "output_type": "error",
          "ename": "TypeError",
          "evalue": "ignored",
          "traceback": [
            "\u001b[0;31m---------------------------------------------------------------------------\u001b[0m",
            "\u001b[0;31mTypeError\u001b[0m                                 Traceback (most recent call last)",
            "\u001b[0;32m<ipython-input-88-5c3e537d89d3>\u001b[0m in \u001b[0;36m<module>\u001b[0;34m\u001b[0m\n\u001b[1;32m      1\u001b[0m \u001b[0mprint\u001b[0m\u001b[0;34m(\u001b[0m\u001b[0ms\u001b[0m\u001b[0;34m)\u001b[0m\u001b[0;34m\u001b[0m\u001b[0;34m\u001b[0m\u001b[0m\n\u001b[1;32m      2\u001b[0m \u001b[0;31m#Let us change `s[0]` to be 'z':\u001b[0m\u001b[0;34m\u001b[0m\u001b[0;34m\u001b[0m\u001b[0;34m\u001b[0m\u001b[0m\n\u001b[0;32m----> 3\u001b[0;31m \u001b[0ms\u001b[0m\u001b[0;34m[\u001b[0m\u001b[0;36m0\u001b[0m\u001b[0;34m]\u001b[0m\u001b[0;34m=\u001b[0m\u001b[0;34m'z'\u001b[0m\u001b[0;34m\u001b[0m\u001b[0;34m\u001b[0m\u001b[0m\n\u001b[0m\u001b[1;32m      4\u001b[0m \u001b[0mprint\u001b[0m\u001b[0;34m(\u001b[0m\u001b[0ms\u001b[0m\u001b[0;34m)\u001b[0m\u001b[0;34m\u001b[0m\u001b[0;34m\u001b[0m\u001b[0m\n",
            "\u001b[0;31mTypeError\u001b[0m: 'str' object does not support item assignment"
          ]
        }
      ]
    },
    {
      "cell_type": "markdown",
      "source": [
        "As one can see, this raises an error. What does this mean? It simply means that it is not possible for us to change any value in a string, once we have defined it. However it is not the same for lists. "
      ],
      "metadata": {
        "id": "S5exN2PEUq-T"
      }
    },
    {
      "cell_type": "code",
      "source": [
        "print(ls)\n",
        "ls[0]='pk'\n",
        "print(ls)"
      ],
      "metadata": {
        "colab": {
          "base_uri": "https://localhost:8080/"
        },
        "id": "UU_1eXv1U2Ss",
        "outputId": "274c9069-9191-442e-d7c5-904ec46e60aa"
      },
      "execution_count": 91,
      "outputs": [
        {
          "output_type": "stream",
          "name": "stdout",
          "text": [
            "[1, 2.3, 'pink', [1, 5, 8]]\n",
            "['pk', 2.3, 'pink', [1, 5, 8]]\n"
          ]
        }
      ]
    },
    {
      "cell_type": "code",
      "source": [
        "me=\"Blue\"\n",
        "mels=list(me)\n",
        "mels"
      ],
      "metadata": {
        "colab": {
          "base_uri": "https://localhost:8080/"
        },
        "id": "6HeAI2S7WSk4",
        "outputId": "b15a59b1-96e5-400a-b673-2b87fe4e7767"
      },
      "execution_count": 89,
      "outputs": [
        {
          "output_type": "execute_result",
          "data": {
            "text/plain": [
              "['B', 'l', 'u', 'e']"
            ]
          },
          "metadata": {},
          "execution_count": 89
        }
      ]
    },
    {
      "cell_type": "markdown",
      "source": [
        "Let us now try swapping our list using the swap concept we had defined above:"
      ],
      "metadata": {
        "id": "eMmFFAx6W1T0"
      }
    },
    {
      "cell_type": "code",
      "source": [
        "mels[0]=mels[-1]\n",
        "mels[-1]=mels[0]\n",
        "mels"
      ],
      "metadata": {
        "colab": {
          "base_uri": "https://localhost:8080/"
        },
        "id": "QpbGL1YRWn5r",
        "outputId": "6d268d3f-a0d8-4d52-f5cd-fce63281beeb"
      },
      "execution_count": 90,
      "outputs": [
        {
          "output_type": "execute_result",
          "data": {
            "text/plain": [
              "['e', 'l', 'u', 'e']"
            ]
          },
          "metadata": {},
          "execution_count": 90
        }
      ]
    },
    {
      "cell_type": "markdown",
      "source": [
        "Well, this is not what we had in mind. We expected the `swap` to make `mels` to be `['e','l','u','B']` but it first substituted `mels[0]` with `e` and then `e` with `e` again. So, what do we do as an alternate? \n",
        "\n",
        "Let us create a `help_swap` that stores the original value of `mels[0]`"
      ],
      "metadata": {
        "id": "8mhIAh5rXAqV"
      }
    },
    {
      "cell_type": "code",
      "source": [
        "mels=list(\"Blue\")\n",
        "help=mels[0]\n",
        "mels[0]=mels[-1]\n",
        "mels[-1]=help\n",
        "mels"
      ],
      "metadata": {
        "colab": {
          "base_uri": "https://localhost:8080/"
        },
        "id": "mDG1nUttXaeB",
        "outputId": "3d5be40b-074d-4ece-d545-2a0bbdcb1e30"
      },
      "execution_count": 92,
      "outputs": [
        {
          "output_type": "execute_result",
          "data": {
            "text/plain": [
              "['e', 'l', 'u', 'B']"
            ]
          },
          "metadata": {},
          "execution_count": 92
        }
      ]
    },
    {
      "cell_type": "markdown",
      "source": [
        "Notice that this works just fine now! Let us, therefore, create a function `swap_for_lists` using this concept:"
      ],
      "metadata": {
        "id": "N_fr05Q7XYPY"
      }
    },
    {
      "cell_type": "code",
      "source": [
        "def swap_for_list(x):\n",
        "  help=x[0]\n",
        "  x[0]=x[-1]\n",
        "  x[-1]=help\n",
        "\n",
        "swap_for_list(mels)"
      ],
      "metadata": {
        "id": "zG5XPj2PXrNq"
      },
      "execution_count": 93,
      "outputs": []
    },
    {
      "cell_type": "markdown",
      "source": [
        "Clearly we cannot pass string into `swap_for_list` as it does not support string assignment.\n",
        "\n",
        "So how do we create a swap for lists and strings that works just like `swap_for_list` does?\n",
        "\n",
        "Another very valid question to ask here is : what is the difference between `swap_for_lists` and `swap_for_list`?\n",
        "\n",
        "The former function does not change the list but returns a new list, while the latter changes the list."
      ],
      "metadata": {
        "id": "Pbhk4pgqavqd"
      }
    },
    {
      "cell_type": "markdown",
      "source": [
        "Let us try writing a `swap_for_list` function for strings. Note that while we cannot do string assignment we can change the variable containing the string."
      ],
      "metadata": {
        "id": "rpdm9aNZavcu"
      }
    },
    {
      "cell_type": "code",
      "source": [
        "me=\"Pink\"\n",
        "me=swap(me)\n",
        "me"
      ],
      "metadata": {
        "colab": {
          "base_uri": "https://localhost:8080/",
          "height": 34
        },
        "id": "2jeFY1SGZ-Hf",
        "outputId": "a142816d-d1fd-4001-ed6b-a525b47a2430"
      },
      "execution_count": 94,
      "outputs": [
        {
          "output_type": "execute_result",
          "data": {
            "text/plain": [
              "'kinP'"
            ],
            "application/vnd.google.colaboratory.intrinsic+json": {
              "type": "string"
            }
          },
          "metadata": {},
          "execution_count": 94
        }
      ]
    },
    {
      "cell_type": "code",
      "source": [
        "def swap_for_string(x):\n",
        "  s=swap(x)\n",
        "\n",
        "x=\"Pink\"\n",
        "swap_for_string(x)"
      ],
      "metadata": {
        "id": "34gr-dMabV7B"
      },
      "execution_count": 95,
      "outputs": []
    },
    {
      "cell_type": "code",
      "source": [
        "x"
      ],
      "metadata": {
        "id": "luIw90sAbtTJ",
        "colab": {
          "base_uri": "https://localhost:8080/",
          "height": 34
        },
        "outputId": "d15c39a3-1219-445d-8c5d-da9374cb58e1"
      },
      "execution_count": 96,
      "outputs": [
        {
          "output_type": "execute_result",
          "data": {
            "text/plain": [
              "'Pink'"
            ],
            "application/vnd.google.colaboratory.intrinsic+json": {
              "type": "string"
            }
          },
          "metadata": {},
          "execution_count": 96
        }
      ]
    },
    {
      "cell_type": "markdown",
      "source": [
        "Clearly, nothing happened to `x`. It remained unchanged because the changed string was copied into `s` whose scope was restricted to the scope of the function. To make it return the changed string, we will have to do the following:"
      ],
      "metadata": {
        "id": "MCBzGEoYbyYC"
      }
    },
    {
      "cell_type": "code",
      "source": [
        "def swap_for_string():\n",
        "  global x\n",
        "  x=swap(x)\n",
        "\n",
        "x=\"Pink\"\n",
        "swap_for_string()\n",
        "print(x)"
      ],
      "metadata": {
        "id": "xcJXH83dcWwp",
        "colab": {
          "base_uri": "https://localhost:8080/"
        },
        "outputId": "d897a142-507a-4835-baa1-36e6bfb890a3"
      },
      "execution_count": 98,
      "outputs": [
        {
          "output_type": "stream",
          "name": "stdout",
          "text": [
            "kinP\n"
          ]
        }
      ]
    },
    {
      "cell_type": "markdown",
      "source": [
        "This brings us to the following definitions:\n",
        "\n",
        "\n",
        "*   Local variable: A local variable is referenced in the function or block in which it is declared overrides the same variable name in the larger scope.\n",
        "*   Global variable: A global variable is a variable with global scope, meaning that it is visible throughout the program.\n",
        "\n"
      ],
      "metadata": {
        "id": "3YjCz0E8cWZ_"
      }
    },
    {
      "cell_type": "markdown",
      "source": [
        "*NOTE*: The exercises for the chapter 2 of the book 'Conceptual Programming with Python' by Thorsten Altenkirch and Isaac Triguero has been solved and can be accessed [here](https://github.com/cyclotomicextension/Conceptual_Programming_with_Python_solutions). \n",
        "\n",
        "Jupyter Notebook of this topic is also accessible in the same repository. "
      ],
      "metadata": {
        "id": "92alUNCfc4jW"
      }
    }
  ]
}